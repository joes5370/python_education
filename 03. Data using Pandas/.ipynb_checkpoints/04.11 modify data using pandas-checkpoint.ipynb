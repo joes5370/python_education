{
 "cells": [
  {
   "cell_type": "markdown",
   "metadata": {},
   "source": [
    "### 04.04 복습(remind) & 추가 "
   ]
  },
  {
   "cell_type": "code",
   "execution_count": 33,
   "metadata": {},
   "outputs": [
    {
     "data": {
      "text/html": [
       "<div>\n",
       "<style scoped>\n",
       "    .dataframe tbody tr th:only-of-type {\n",
       "        vertical-align: middle;\n",
       "    }\n",
       "\n",
       "    .dataframe tbody tr th {\n",
       "        vertical-align: top;\n",
       "    }\n",
       "\n",
       "    .dataframe thead th {\n",
       "        text-align: right;\n",
       "    }\n",
       "</style>\n",
       "<table border=\"1\" class=\"dataframe\">\n",
       "  <thead>\n",
       "    <tr style=\"text-align: right;\">\n",
       "      <th></th>\n",
       "      <th>REGIONID</th>\n",
       "      <th>PRODUCT</th>\n",
       "      <th>YEARWEEK</th>\n",
       "      <th>QTY</th>\n",
       "    </tr>\n",
       "  </thead>\n",
       "  <tbody>\n",
       "    <tr>\n",
       "      <th>0</th>\n",
       "      <td>A60</td>\n",
       "      <td>PRODUCT4</td>\n",
       "      <td>201402</td>\n",
       "      <td>71.0</td>\n",
       "    </tr>\n",
       "    <tr>\n",
       "      <th>1</th>\n",
       "      <td>A60</td>\n",
       "      <td>PRODUCT59</td>\n",
       "      <td>201402</td>\n",
       "      <td>22275.0</td>\n",
       "    </tr>\n",
       "    <tr>\n",
       "      <th>2</th>\n",
       "      <td>A60</td>\n",
       "      <td>PRODUCT34</td>\n",
       "      <td>201402</td>\n",
       "      <td>4463.0</td>\n",
       "    </tr>\n",
       "    <tr>\n",
       "      <th>3</th>\n",
       "      <td>A60</td>\n",
       "      <td>PRODUCT47</td>\n",
       "      <td>201402</td>\n",
       "      <td>0.0</td>\n",
       "    </tr>\n",
       "    <tr>\n",
       "      <th>4</th>\n",
       "      <td>A60</td>\n",
       "      <td>PRODUCT56</td>\n",
       "      <td>201402</td>\n",
       "      <td>23.0</td>\n",
       "    </tr>\n",
       "  </tbody>\n",
       "</table>\n",
       "</div>"
      ],
      "text/plain": [
       "  REGIONID    PRODUCT  YEARWEEK      QTY\n",
       "0      A60   PRODUCT4    201402     71.0\n",
       "1      A60  PRODUCT59    201402  22275.0\n",
       "2      A60  PRODUCT34    201402   4463.0\n",
       "3      A60  PRODUCT47    201402      0.0\n",
       "4      A60  PRODUCT56    201402     23.0"
      ]
     },
     "execution_count": 33,
     "metadata": {},
     "output_type": "execute_result"
    }
   ],
   "source": [
    "import pandas as pd\n",
    "import numpy as np\n",
    "selloutData = pd.read_csv('../dataset/kopo_channel_seasonality_new.csv')\n",
    "selloutData.head()"
   ]
  },
  {
   "cell_type": "code",
   "execution_count": 34,
   "metadata": {},
   "outputs": [],
   "source": [
    "selloutData[\"NEW_QTY\"] = np.where(selloutData[\"QTY\"]< 0,0,selloutData[\"QTY\"])"
   ]
  },
  {
   "cell_type": "markdown",
   "metadata": {},
   "source": [
    "### 53주차 제거"
   ]
  },
  {
   "cell_type": "code",
   "execution_count": 35,
   "metadata": {},
   "outputs": [
    {
     "data": {
      "text/plain": [
       "REGIONID     object\n",
       "PRODUCT      object\n",
       "YEARWEEK      int64\n",
       "QTY         float64\n",
       "NEW_QTY     float64\n",
       "dtype: object"
      ]
     },
     "execution_count": 35,
     "metadata": {},
     "output_type": "execute_result"
    }
   ],
   "source": [
    "selloutData.dtypes"
   ]
  },
  {
   "cell_type": "code",
   "execution_count": 36,
   "metadata": {},
   "outputs": [
    {
     "data": {
      "text/plain": [
       "2016"
      ]
     },
     "execution_count": 36,
     "metadata": {},
     "output_type": "execute_result"
    }
   ],
   "source": [
    "int(201623/100)"
   ]
  },
  {
   "cell_type": "code",
   "execution_count": 37,
   "metadata": {},
   "outputs": [
    {
     "data": {
      "text/plain": [
       "23"
      ]
     },
     "execution_count": 37,
     "metadata": {},
     "output_type": "execute_result"
    }
   ],
   "source": [
    "201623%100"
   ]
  },
  {
   "cell_type": "code",
   "execution_count": 38,
   "metadata": {},
   "outputs": [],
   "source": [
    "selloutData[\"WEEK\"] = selloutData[\"YEARWEEK\"]%100\n",
    "# selloutData[\"TEST\"] = (selloutData.YEARWEEK %100).astype(int)"
   ]
  },
  {
   "cell_type": "code",
   "execution_count": 39,
   "metadata": {},
   "outputs": [
    {
     "data": {
      "text/html": [
       "<div>\n",
       "<style scoped>\n",
       "    .dataframe tbody tr th:only-of-type {\n",
       "        vertical-align: middle;\n",
       "    }\n",
       "\n",
       "    .dataframe tbody tr th {\n",
       "        vertical-align: top;\n",
       "    }\n",
       "\n",
       "    .dataframe thead th {\n",
       "        text-align: right;\n",
       "    }\n",
       "</style>\n",
       "<table border=\"1\" class=\"dataframe\">\n",
       "  <thead>\n",
       "    <tr style=\"text-align: right;\">\n",
       "      <th></th>\n",
       "      <th>REGIONID</th>\n",
       "      <th>PRODUCT</th>\n",
       "      <th>YEARWEEK</th>\n",
       "      <th>QTY</th>\n",
       "      <th>NEW_QTY</th>\n",
       "      <th>WEEK</th>\n",
       "      <th>YEAR</th>\n",
       "    </tr>\n",
       "  </thead>\n",
       "  <tbody>\n",
       "    <tr>\n",
       "      <th>0</th>\n",
       "      <td>A60</td>\n",
       "      <td>PRODUCT4</td>\n",
       "      <td>201402</td>\n",
       "      <td>71.0</td>\n",
       "      <td>71.0</td>\n",
       "      <td>2</td>\n",
       "      <td>2014.0</td>\n",
       "    </tr>\n",
       "    <tr>\n",
       "      <th>1</th>\n",
       "      <td>A60</td>\n",
       "      <td>PRODUCT59</td>\n",
       "      <td>201402</td>\n",
       "      <td>22275.0</td>\n",
       "      <td>22275.0</td>\n",
       "      <td>2</td>\n",
       "      <td>2014.0</td>\n",
       "    </tr>\n",
       "    <tr>\n",
       "      <th>2</th>\n",
       "      <td>A60</td>\n",
       "      <td>PRODUCT34</td>\n",
       "      <td>201402</td>\n",
       "      <td>4463.0</td>\n",
       "      <td>4463.0</td>\n",
       "      <td>2</td>\n",
       "      <td>2014.0</td>\n",
       "    </tr>\n",
       "    <tr>\n",
       "      <th>3</th>\n",
       "      <td>A60</td>\n",
       "      <td>PRODUCT47</td>\n",
       "      <td>201402</td>\n",
       "      <td>0.0</td>\n",
       "      <td>0.0</td>\n",
       "      <td>2</td>\n",
       "      <td>2014.0</td>\n",
       "    </tr>\n",
       "    <tr>\n",
       "      <th>4</th>\n",
       "      <td>A60</td>\n",
       "      <td>PRODUCT56</td>\n",
       "      <td>201402</td>\n",
       "      <td>23.0</td>\n",
       "      <td>23.0</td>\n",
       "      <td>2</td>\n",
       "      <td>2014.0</td>\n",
       "    </tr>\n",
       "  </tbody>\n",
       "</table>\n",
       "</div>"
      ],
      "text/plain": [
       "  REGIONID    PRODUCT  YEARWEEK      QTY  NEW_QTY  WEEK    YEAR\n",
       "0      A60   PRODUCT4    201402     71.0     71.0     2  2014.0\n",
       "1      A60  PRODUCT59    201402  22275.0  22275.0     2  2014.0\n",
       "2      A60  PRODUCT34    201402   4463.0   4463.0     2  2014.0\n",
       "3      A60  PRODUCT47    201402      0.0      0.0     2  2014.0\n",
       "4      A60  PRODUCT56    201402     23.0     23.0     2  2014.0"
      ]
     },
     "execution_count": 39,
     "metadata": {},
     "output_type": "execute_result"
    }
   ],
   "source": [
    "selloutData[\"YEAR\"] = round(selloutData[\"YEARWEEK\"]/100,0)\n",
    "selloutData.head()\n",
    "# selloutData[\"TEST\"] = (selloutData.YEARWEEK /100).astype(int)"
   ]
  },
  {
   "cell_type": "code",
   "execution_count": 40,
   "metadata": {},
   "outputs": [
    {
     "data": {
      "text/html": [
       "<div>\n",
       "<style scoped>\n",
       "    .dataframe tbody tr th:only-of-type {\n",
       "        vertical-align: middle;\n",
       "    }\n",
       "\n",
       "    .dataframe tbody tr th {\n",
       "        vertical-align: top;\n",
       "    }\n",
       "\n",
       "    .dataframe thead th {\n",
       "        text-align: right;\n",
       "    }\n",
       "</style>\n",
       "<table border=\"1\" class=\"dataframe\">\n",
       "  <thead>\n",
       "    <tr style=\"text-align: right;\">\n",
       "      <th></th>\n",
       "      <th>REGIONID</th>\n",
       "      <th>PRODUCT</th>\n",
       "      <th>YEARWEEK</th>\n",
       "      <th>QTY</th>\n",
       "      <th>NEW_QTY</th>\n",
       "      <th>WEEK</th>\n",
       "      <th>YEAR</th>\n",
       "    </tr>\n",
       "  </thead>\n",
       "  <tbody>\n",
       "    <tr>\n",
       "      <th>0</th>\n",
       "      <td>A60</td>\n",
       "      <td>PRODUCT4</td>\n",
       "      <td>201402</td>\n",
       "      <td>71.0</td>\n",
       "      <td>71.0</td>\n",
       "      <td>2</td>\n",
       "      <td>2014.0</td>\n",
       "    </tr>\n",
       "    <tr>\n",
       "      <th>1</th>\n",
       "      <td>A60</td>\n",
       "      <td>PRODUCT59</td>\n",
       "      <td>201402</td>\n",
       "      <td>22275.0</td>\n",
       "      <td>22275.0</td>\n",
       "      <td>2</td>\n",
       "      <td>2014.0</td>\n",
       "    </tr>\n",
       "    <tr>\n",
       "      <th>2</th>\n",
       "      <td>A60</td>\n",
       "      <td>PRODUCT34</td>\n",
       "      <td>201402</td>\n",
       "      <td>4463.0</td>\n",
       "      <td>4463.0</td>\n",
       "      <td>2</td>\n",
       "      <td>2014.0</td>\n",
       "    </tr>\n",
       "    <tr>\n",
       "      <th>3</th>\n",
       "      <td>A60</td>\n",
       "      <td>PRODUCT47</td>\n",
       "      <td>201402</td>\n",
       "      <td>0.0</td>\n",
       "      <td>0.0</td>\n",
       "      <td>2</td>\n",
       "      <td>2014.0</td>\n",
       "    </tr>\n",
       "    <tr>\n",
       "      <th>4</th>\n",
       "      <td>A60</td>\n",
       "      <td>PRODUCT56</td>\n",
       "      <td>201402</td>\n",
       "      <td>23.0</td>\n",
       "      <td>23.0</td>\n",
       "      <td>2</td>\n",
       "      <td>2014.0</td>\n",
       "    </tr>\n",
       "  </tbody>\n",
       "</table>\n",
       "</div>"
      ],
      "text/plain": [
       "  REGIONID    PRODUCT  YEARWEEK      QTY  NEW_QTY  WEEK    YEAR\n",
       "0      A60   PRODUCT4    201402     71.0     71.0     2  2014.0\n",
       "1      A60  PRODUCT59    201402  22275.0  22275.0     2  2014.0\n",
       "2      A60  PRODUCT34    201402   4463.0   4463.0     2  2014.0\n",
       "3      A60  PRODUCT47    201402      0.0      0.0     2  2014.0\n",
       "4      A60  PRODUCT56    201402     23.0     23.0     2  2014.0"
      ]
     },
     "execution_count": 40,
     "metadata": {},
     "output_type": "execute_result"
    }
   ],
   "source": [
    "refineData = selloutData[selloutData.WEEK < 53]\n",
    "refineData.head()"
   ]
  },
  {
   "cell_type": "markdown",
   "metadata": {},
   "source": [
    "### 함수로 만들어 버리기 "
   ]
  },
  {
   "cell_type": "code",
   "execution_count": 41,
   "metadata": {},
   "outputs": [],
   "source": [
    "def customFunction(inputColumn):\n",
    "    yearValue = inputColumn/100\n",
    "    yearValue = int(yearValue)\n",
    "    return yearValue"
   ]
  },
  {
   "cell_type": "code",
   "execution_count": 42,
   "metadata": {},
   "outputs": [
    {
     "data": {
      "text/html": [
       "<div>\n",
       "<style scoped>\n",
       "    .dataframe tbody tr th:only-of-type {\n",
       "        vertical-align: middle;\n",
       "    }\n",
       "\n",
       "    .dataframe tbody tr th {\n",
       "        vertical-align: top;\n",
       "    }\n",
       "\n",
       "    .dataframe thead th {\n",
       "        text-align: right;\n",
       "    }\n",
       "</style>\n",
       "<table border=\"1\" class=\"dataframe\">\n",
       "  <thead>\n",
       "    <tr style=\"text-align: right;\">\n",
       "      <th></th>\n",
       "      <th>REGIONID</th>\n",
       "      <th>PRODUCT</th>\n",
       "      <th>YEARWEEK</th>\n",
       "      <th>QTY</th>\n",
       "      <th>NEW_QTY</th>\n",
       "      <th>WEEK</th>\n",
       "      <th>YEAR</th>\n",
       "    </tr>\n",
       "  </thead>\n",
       "  <tbody>\n",
       "    <tr>\n",
       "      <th>0</th>\n",
       "      <td>A60</td>\n",
       "      <td>PRODUCT4</td>\n",
       "      <td>201402</td>\n",
       "      <td>71.0</td>\n",
       "      <td>71.0</td>\n",
       "      <td>2</td>\n",
       "      <td>2014</td>\n",
       "    </tr>\n",
       "    <tr>\n",
       "      <th>1</th>\n",
       "      <td>A60</td>\n",
       "      <td>PRODUCT59</td>\n",
       "      <td>201402</td>\n",
       "      <td>22275.0</td>\n",
       "      <td>22275.0</td>\n",
       "      <td>2</td>\n",
       "      <td>2014</td>\n",
       "    </tr>\n",
       "    <tr>\n",
       "      <th>2</th>\n",
       "      <td>A60</td>\n",
       "      <td>PRODUCT34</td>\n",
       "      <td>201402</td>\n",
       "      <td>4463.0</td>\n",
       "      <td>4463.0</td>\n",
       "      <td>2</td>\n",
       "      <td>2014</td>\n",
       "    </tr>\n",
       "    <tr>\n",
       "      <th>3</th>\n",
       "      <td>A60</td>\n",
       "      <td>PRODUCT47</td>\n",
       "      <td>201402</td>\n",
       "      <td>0.0</td>\n",
       "      <td>0.0</td>\n",
       "      <td>2</td>\n",
       "      <td>2014</td>\n",
       "    </tr>\n",
       "    <tr>\n",
       "      <th>4</th>\n",
       "      <td>A60</td>\n",
       "      <td>PRODUCT56</td>\n",
       "      <td>201402</td>\n",
       "      <td>23.0</td>\n",
       "      <td>23.0</td>\n",
       "      <td>2</td>\n",
       "      <td>2014</td>\n",
       "    </tr>\n",
       "  </tbody>\n",
       "</table>\n",
       "</div>"
      ],
      "text/plain": [
       "  REGIONID    PRODUCT  YEARWEEK      QTY  NEW_QTY  WEEK  YEAR\n",
       "0      A60   PRODUCT4    201402     71.0     71.0     2  2014\n",
       "1      A60  PRODUCT59    201402  22275.0  22275.0     2  2014\n",
       "2      A60  PRODUCT34    201402   4463.0   4463.0     2  2014\n",
       "3      A60  PRODUCT47    201402      0.0      0.0     2  2014\n",
       "4      A60  PRODUCT56    201402     23.0     23.0     2  2014"
      ]
     },
     "execution_count": 42,
     "metadata": {},
     "output_type": "execute_result"
    }
   ],
   "source": [
    "selloutData[\"YEAR\"] = selloutData[\"YEARWEEK\"].apply(customFunction)\n",
    "selloutData.head()"
   ]
  },
  {
   "cell_type": "code",
   "execution_count": 43,
   "metadata": {},
   "outputs": [
    {
     "data": {
      "text/html": [
       "<div>\n",
       "<style scoped>\n",
       "    .dataframe tbody tr th:only-of-type {\n",
       "        vertical-align: middle;\n",
       "    }\n",
       "\n",
       "    .dataframe tbody tr th {\n",
       "        vertical-align: top;\n",
       "    }\n",
       "\n",
       "    .dataframe thead th {\n",
       "        text-align: right;\n",
       "    }\n",
       "</style>\n",
       "<table border=\"1\" class=\"dataframe\">\n",
       "  <thead>\n",
       "    <tr style=\"text-align: right;\">\n",
       "      <th></th>\n",
       "      <th>REGIONID</th>\n",
       "      <th>PRODUCT</th>\n",
       "      <th>YEARWEEK</th>\n",
       "      <th>QTY</th>\n",
       "      <th>NEW_QTY</th>\n",
       "      <th>WEEK</th>\n",
       "      <th>YEAR</th>\n",
       "    </tr>\n",
       "  </thead>\n",
       "  <tbody>\n",
       "    <tr>\n",
       "      <th>298</th>\n",
       "      <td>A00</td>\n",
       "      <td>PRODUCT34</td>\n",
       "      <td>201401</td>\n",
       "      <td>661.0</td>\n",
       "      <td>661.0</td>\n",
       "      <td>1</td>\n",
       "      <td>2014.0</td>\n",
       "    </tr>\n",
       "    <tr>\n",
       "      <th>1757</th>\n",
       "      <td>A00</td>\n",
       "      <td>PRODUCT34</td>\n",
       "      <td>201402</td>\n",
       "      <td>679.0</td>\n",
       "      <td>679.0</td>\n",
       "      <td>2</td>\n",
       "      <td>2014.0</td>\n",
       "    </tr>\n",
       "    <tr>\n",
       "      <th>3125</th>\n",
       "      <td>A00</td>\n",
       "      <td>PRODUCT34</td>\n",
       "      <td>201403</td>\n",
       "      <td>578.0</td>\n",
       "      <td>578.0</td>\n",
       "      <td>3</td>\n",
       "      <td>2014.0</td>\n",
       "    </tr>\n",
       "    <tr>\n",
       "      <th>205</th>\n",
       "      <td>A00</td>\n",
       "      <td>PRODUCT34</td>\n",
       "      <td>201404</td>\n",
       "      <td>532.0</td>\n",
       "      <td>532.0</td>\n",
       "      <td>4</td>\n",
       "      <td>2014.0</td>\n",
       "    </tr>\n",
       "    <tr>\n",
       "      <th>4369</th>\n",
       "      <td>A00</td>\n",
       "      <td>PRODUCT34</td>\n",
       "      <td>201405</td>\n",
       "      <td>516.0</td>\n",
       "      <td>516.0</td>\n",
       "      <td>5</td>\n",
       "      <td>2014.0</td>\n",
       "    </tr>\n",
       "  </tbody>\n",
       "</table>\n",
       "</div>"
      ],
      "text/plain": [
       "     REGIONID    PRODUCT  YEARWEEK    QTY  NEW_QTY  WEEK    YEAR\n",
       "298       A00  PRODUCT34    201401  661.0    661.0     1  2014.0\n",
       "1757      A00  PRODUCT34    201402  679.0    679.0     2  2014.0\n",
       "3125      A00  PRODUCT34    201403  578.0    578.0     3  2014.0\n",
       "205       A00  PRODUCT34    201404  532.0    532.0     4  2014.0\n",
       "4369      A00  PRODUCT34    201405  516.0    516.0     5  2014.0"
      ]
     },
     "execution_count": 43,
     "metadata": {},
     "output_type": "execute_result"
    }
   ],
   "source": [
    "sortKey = [\"REGIONID\",\"PRODUCT\",\"YEARWEEK\"]\n",
    "sortData = refineData.sort_values(sortKey)\n",
    "sortData.head()"
   ]
  },
  {
   "cell_type": "markdown",
   "metadata": {},
   "source": [
    "### 인덱스 정리 "
   ]
  },
  {
   "cell_type": "code",
   "execution_count": 44,
   "metadata": {},
   "outputs": [
    {
     "data": {
      "text/html": [
       "<div>\n",
       "<style scoped>\n",
       "    .dataframe tbody tr th:only-of-type {\n",
       "        vertical-align: middle;\n",
       "    }\n",
       "\n",
       "    .dataframe tbody tr th {\n",
       "        vertical-align: top;\n",
       "    }\n",
       "\n",
       "    .dataframe thead th {\n",
       "        text-align: right;\n",
       "    }\n",
       "</style>\n",
       "<table border=\"1\" class=\"dataframe\">\n",
       "  <thead>\n",
       "    <tr style=\"text-align: right;\">\n",
       "      <th></th>\n",
       "      <th>REGIONID</th>\n",
       "      <th>PRODUCT</th>\n",
       "      <th>YEARWEEK</th>\n",
       "      <th>QTY</th>\n",
       "      <th>NEW_QTY</th>\n",
       "      <th>WEEK</th>\n",
       "      <th>YEAR</th>\n",
       "    </tr>\n",
       "  </thead>\n",
       "  <tbody>\n",
       "    <tr>\n",
       "      <th>0</th>\n",
       "      <td>A00</td>\n",
       "      <td>PRODUCT34</td>\n",
       "      <td>201401</td>\n",
       "      <td>661.0</td>\n",
       "      <td>661.0</td>\n",
       "      <td>1</td>\n",
       "      <td>2014.0</td>\n",
       "    </tr>\n",
       "    <tr>\n",
       "      <th>1</th>\n",
       "      <td>A00</td>\n",
       "      <td>PRODUCT34</td>\n",
       "      <td>201402</td>\n",
       "      <td>679.0</td>\n",
       "      <td>679.0</td>\n",
       "      <td>2</td>\n",
       "      <td>2014.0</td>\n",
       "    </tr>\n",
       "    <tr>\n",
       "      <th>2</th>\n",
       "      <td>A00</td>\n",
       "      <td>PRODUCT34</td>\n",
       "      <td>201403</td>\n",
       "      <td>578.0</td>\n",
       "      <td>578.0</td>\n",
       "      <td>3</td>\n",
       "      <td>2014.0</td>\n",
       "    </tr>\n",
       "    <tr>\n",
       "      <th>3</th>\n",
       "      <td>A00</td>\n",
       "      <td>PRODUCT34</td>\n",
       "      <td>201404</td>\n",
       "      <td>532.0</td>\n",
       "      <td>532.0</td>\n",
       "      <td>4</td>\n",
       "      <td>2014.0</td>\n",
       "    </tr>\n",
       "    <tr>\n",
       "      <th>4</th>\n",
       "      <td>A00</td>\n",
       "      <td>PRODUCT34</td>\n",
       "      <td>201405</td>\n",
       "      <td>516.0</td>\n",
       "      <td>516.0</td>\n",
       "      <td>5</td>\n",
       "      <td>2014.0</td>\n",
       "    </tr>\n",
       "  </tbody>\n",
       "</table>\n",
       "</div>"
      ],
      "text/plain": [
       "  REGIONID    PRODUCT  YEARWEEK    QTY  NEW_QTY  WEEK    YEAR\n",
       "0      A00  PRODUCT34    201401  661.0    661.0     1  2014.0\n",
       "1      A00  PRODUCT34    201402  679.0    679.0     2  2014.0\n",
       "2      A00  PRODUCT34    201403  578.0    578.0     3  2014.0\n",
       "3      A00  PRODUCT34    201404  532.0    532.0     4  2014.0\n",
       "4      A00  PRODUCT34    201405  516.0    516.0     5  2014.0"
      ]
     },
     "execution_count": 44,
     "metadata": {},
     "output_type": "execute_result"
    }
   ],
   "source": [
    "step1Data = sortData.reset_index(drop = True)\n",
    "##drop으로 인덱스숫자를 지우고 자연스럽게 만든다.\n",
    "step1Data.head()"
   ]
  },
  {
   "cell_type": "markdown",
   "metadata": {},
   "source": [
    "### 04.11 시작"
   ]
  },
  {
   "cell_type": "markdown",
   "metadata": {},
   "source": [
    "### 1.rolling 함수 다시 써보기"
   ]
  },
  {
   "cell_type": "code",
   "execution_count": 13,
   "metadata": {},
   "outputs": [],
   "source": [
    "##롤링함수를 쓰기전에는 정렬은 기본이다!!!!(꼭 헤줘야함)\n",
    "##정렬은 모든 단계의 기본적으로 하는 것!!!"
   ]
  },
  {
   "cell_type": "markdown",
   "metadata": {},
   "source": [
    "### 기본 이동평균 함수 "
   ]
  },
  {
   "cell_type": "code",
   "execution_count": 45,
   "metadata": {},
   "outputs": [],
   "source": [
    "step1Data[\"MA\"] = step1Data.NEW_QTY.rolling(window = 15, min_periods=1, center = True).mean()"
   ]
  },
  {
   "cell_type": "code",
   "execution_count": 46,
   "metadata": {},
   "outputs": [],
   "source": [
    "step1Data.head()\n",
    "##step1Data.to_csv('./result.csv') - 데이터 저장 index = False로 주면 인덱스가빠짐\n",
    "step1Data.to_csv('./result.csv')"
   ]
  },
  {
   "cell_type": "code",
   "execution_count": 47,
   "metadata": {},
   "outputs": [
    {
     "data": {
      "text/plain": [
       "'C:\\\\Users\\\\SMART-24\\\\Python_FinTech\\\\03. Data using Pandas'"
      ]
     },
     "execution_count": 47,
     "metadata": {},
     "output_type": "execute_result"
    }
   ],
   "source": [
    "pwd"
   ]
  },
  {
   "cell_type": "markdown",
   "metadata": {},
   "source": [
    "### 그룹 지정"
   ]
  },
  {
   "cell_type": "code",
   "execution_count": 48,
   "metadata": {},
   "outputs": [],
   "source": [
    "filteredData = step1Data[(step1Data.REGIONID==\"A00\") &\n",
    "                         (step1Data.PRODUCT == \"PRODUCT34\")]"
   ]
  },
  {
   "cell_type": "code",
   "execution_count": 49,
   "metadata": {},
   "outputs": [],
   "source": [
    "groupKey = [\"REGIONID\",\"PRODUCT\",\"YEAR\"]"
   ]
  },
  {
   "cell_type": "code",
   "execution_count": 50,
   "metadata": {},
   "outputs": [],
   "source": [
    "groupResult = step1Data.groupby(groupKey)[[\"NEW_QTY\"]].mean().head()\n",
    "groupResult.head()\n",
    "g2 = groupResult.reset_index()\n"
   ]
  },
  {
   "cell_type": "code",
   "execution_count": 51,
   "metadata": {},
   "outputs": [
    {
     "data": {
      "text/html": [
       "<div>\n",
       "<style scoped>\n",
       "    .dataframe tbody tr th:only-of-type {\n",
       "        vertical-align: middle;\n",
       "    }\n",
       "\n",
       "    .dataframe tbody tr th {\n",
       "        vertical-align: top;\n",
       "    }\n",
       "\n",
       "    .dataframe thead th {\n",
       "        text-align: right;\n",
       "    }\n",
       "</style>\n",
       "<table border=\"1\" class=\"dataframe\">\n",
       "  <thead>\n",
       "    <tr style=\"text-align: right;\">\n",
       "      <th></th>\n",
       "      <th>index</th>\n",
       "      <th>Unnamed: 0</th>\n",
       "      <th>REGIONID</th>\n",
       "      <th>PRODUCT</th>\n",
       "      <th>YEARWEEK</th>\n",
       "      <th>QTY</th>\n",
       "      <th>NEW_QTY</th>\n",
       "      <th>WEEK</th>\n",
       "      <th>YEAR</th>\n",
       "      <th>MA</th>\n",
       "    </tr>\n",
       "  </thead>\n",
       "  <tbody>\n",
       "    <tr>\n",
       "      <th>0</th>\n",
       "      <td>0</td>\n",
       "      <td>0</td>\n",
       "      <td>A00</td>\n",
       "      <td>PRODUCT34</td>\n",
       "      <td>201401</td>\n",
       "      <td>661.0</td>\n",
       "      <td>661.0</td>\n",
       "      <td>1</td>\n",
       "      <td>2014</td>\n",
       "      <td>520.000000</td>\n",
       "    </tr>\n",
       "    <tr>\n",
       "      <th>1</th>\n",
       "      <td>1</td>\n",
       "      <td>1</td>\n",
       "      <td>A00</td>\n",
       "      <td>PRODUCT34</td>\n",
       "      <td>201402</td>\n",
       "      <td>679.0</td>\n",
       "      <td>679.0</td>\n",
       "      <td>2</td>\n",
       "      <td>2014</td>\n",
       "      <td>514.444444</td>\n",
       "    </tr>\n",
       "    <tr>\n",
       "      <th>2</th>\n",
       "      <td>2</td>\n",
       "      <td>2</td>\n",
       "      <td>A00</td>\n",
       "      <td>PRODUCT34</td>\n",
       "      <td>201403</td>\n",
       "      <td>578.0</td>\n",
       "      <td>578.0</td>\n",
       "      <td>3</td>\n",
       "      <td>2014</td>\n",
       "      <td>516.800000</td>\n",
       "    </tr>\n",
       "    <tr>\n",
       "      <th>3</th>\n",
       "      <td>3</td>\n",
       "      <td>3</td>\n",
       "      <td>A00</td>\n",
       "      <td>PRODUCT34</td>\n",
       "      <td>201404</td>\n",
       "      <td>532.0</td>\n",
       "      <td>532.0</td>\n",
       "      <td>4</td>\n",
       "      <td>2014</td>\n",
       "      <td>503.363636</td>\n",
       "    </tr>\n",
       "    <tr>\n",
       "      <th>4</th>\n",
       "      <td>4</td>\n",
       "      <td>4</td>\n",
       "      <td>A00</td>\n",
       "      <td>PRODUCT34</td>\n",
       "      <td>201405</td>\n",
       "      <td>516.0</td>\n",
       "      <td>516.0</td>\n",
       "      <td>5</td>\n",
       "      <td>2014</td>\n",
       "      <td>490.750000</td>\n",
       "    </tr>\n",
       "  </tbody>\n",
       "</table>\n",
       "</div>"
      ],
      "text/plain": [
       "   index  Unnamed: 0 REGIONID    PRODUCT  YEARWEEK    QTY  NEW_QTY  WEEK  \\\n",
       "0      0           0      A00  PRODUCT34    201401  661.0    661.0     1   \n",
       "1      1           1      A00  PRODUCT34    201402  679.0    679.0     2   \n",
       "2      2           2      A00  PRODUCT34    201403  578.0    578.0     3   \n",
       "3      3           3      A00  PRODUCT34    201404  532.0    532.0     4   \n",
       "4      4           4      A00  PRODUCT34    201405  516.0    516.0     5   \n",
       "\n",
       "   YEAR          MA  \n",
       "0  2014  520.000000  \n",
       "1  2014  514.444444  \n",
       "2  2014  516.800000  \n",
       "3  2014  503.363636  \n",
       "4  2014  490.750000  "
      ]
     },
     "execution_count": 51,
     "metadata": {},
     "output_type": "execute_result"
    }
   ],
   "source": [
    "result = pd.read_csv('./result.csv')\n",
    "result[\"YEAR\"] = (result.YEARWEEK /100).astype(int)\n",
    "result.head()\n",
    "result.reset_index().head()"
   ]
  },
  {
   "cell_type": "markdown",
   "metadata": {},
   "source": [
    "### 데이터 merge "
   ]
  },
  {
   "cell_type": "code",
   "execution_count": 52,
   "metadata": {},
   "outputs": [
    {
     "data": {
      "text/html": [
       "<div>\n",
       "<style scoped>\n",
       "    .dataframe tbody tr th:only-of-type {\n",
       "        vertical-align: middle;\n",
       "    }\n",
       "\n",
       "    .dataframe tbody tr th {\n",
       "        vertical-align: top;\n",
       "    }\n",
       "\n",
       "    .dataframe thead th {\n",
       "        text-align: right;\n",
       "    }\n",
       "</style>\n",
       "<table border=\"1\" class=\"dataframe\">\n",
       "  <thead>\n",
       "    <tr style=\"text-align: right;\">\n",
       "      <th></th>\n",
       "      <th>Unnamed: 0</th>\n",
       "      <th>REGIONID</th>\n",
       "      <th>PRODUCT</th>\n",
       "      <th>YEARWEEK</th>\n",
       "      <th>QTY</th>\n",
       "      <th>NEW_QTY_x</th>\n",
       "      <th>WEEK</th>\n",
       "      <th>YEAR</th>\n",
       "      <th>MA</th>\n",
       "      <th>NEW_QTY_y</th>\n",
       "    </tr>\n",
       "  </thead>\n",
       "  <tbody>\n",
       "    <tr>\n",
       "      <th>0</th>\n",
       "      <td>0</td>\n",
       "      <td>A00</td>\n",
       "      <td>PRODUCT34</td>\n",
       "      <td>201401</td>\n",
       "      <td>661.0</td>\n",
       "      <td>661.0</td>\n",
       "      <td>1</td>\n",
       "      <td>2014</td>\n",
       "      <td>520.000000</td>\n",
       "      <td>282.12</td>\n",
       "    </tr>\n",
       "    <tr>\n",
       "      <th>1</th>\n",
       "      <td>1</td>\n",
       "      <td>A00</td>\n",
       "      <td>PRODUCT34</td>\n",
       "      <td>201402</td>\n",
       "      <td>679.0</td>\n",
       "      <td>679.0</td>\n",
       "      <td>2</td>\n",
       "      <td>2014</td>\n",
       "      <td>514.444444</td>\n",
       "      <td>282.12</td>\n",
       "    </tr>\n",
       "    <tr>\n",
       "      <th>2</th>\n",
       "      <td>2</td>\n",
       "      <td>A00</td>\n",
       "      <td>PRODUCT34</td>\n",
       "      <td>201403</td>\n",
       "      <td>578.0</td>\n",
       "      <td>578.0</td>\n",
       "      <td>3</td>\n",
       "      <td>2014</td>\n",
       "      <td>516.800000</td>\n",
       "      <td>282.12</td>\n",
       "    </tr>\n",
       "    <tr>\n",
       "      <th>3</th>\n",
       "      <td>3</td>\n",
       "      <td>A00</td>\n",
       "      <td>PRODUCT34</td>\n",
       "      <td>201404</td>\n",
       "      <td>532.0</td>\n",
       "      <td>532.0</td>\n",
       "      <td>4</td>\n",
       "      <td>2014</td>\n",
       "      <td>503.363636</td>\n",
       "      <td>282.12</td>\n",
       "    </tr>\n",
       "    <tr>\n",
       "      <th>4</th>\n",
       "      <td>4</td>\n",
       "      <td>A00</td>\n",
       "      <td>PRODUCT34</td>\n",
       "      <td>201405</td>\n",
       "      <td>516.0</td>\n",
       "      <td>516.0</td>\n",
       "      <td>5</td>\n",
       "      <td>2014</td>\n",
       "      <td>490.750000</td>\n",
       "      <td>282.12</td>\n",
       "    </tr>\n",
       "  </tbody>\n",
       "</table>\n",
       "</div>"
      ],
      "text/plain": [
       "   Unnamed: 0 REGIONID    PRODUCT  YEARWEEK    QTY  NEW_QTY_x  WEEK  YEAR  \\\n",
       "0           0      A00  PRODUCT34    201401  661.0      661.0     1  2014   \n",
       "1           1      A00  PRODUCT34    201402  679.0      679.0     2  2014   \n",
       "2           2      A00  PRODUCT34    201403  578.0      578.0     3  2014   \n",
       "3           3      A00  PRODUCT34    201404  532.0      532.0     4  2014   \n",
       "4           4      A00  PRODUCT34    201405  516.0      516.0     5  2014   \n",
       "\n",
       "           MA  NEW_QTY_y  \n",
       "0  520.000000     282.12  \n",
       "1  514.444444     282.12  \n",
       "2  516.800000     282.12  \n",
       "3  503.363636     282.12  \n",
       "4  490.750000     282.12  "
      ]
     },
     "execution_count": 52,
     "metadata": {},
     "output_type": "execute_result"
    }
   ],
   "source": [
    "mergeData = pd.merge(result,g2,left_on = groupKey, right_on= groupKey, how= \"left\")\n",
    "mergeData.head()"
   ]
  },
  {
   "cell_type": "code",
   "execution_count": 53,
   "metadata": {},
   "outputs": [
    {
     "data": {
      "text/html": [
       "<div>\n",
       "<style scoped>\n",
       "    .dataframe tbody tr th:only-of-type {\n",
       "        vertical-align: middle;\n",
       "    }\n",
       "\n",
       "    .dataframe tbody tr th {\n",
       "        vertical-align: top;\n",
       "    }\n",
       "\n",
       "    .dataframe thead th {\n",
       "        text-align: right;\n",
       "    }\n",
       "</style>\n",
       "<table border=\"1\" class=\"dataframe\">\n",
       "  <thead>\n",
       "    <tr style=\"text-align: right;\">\n",
       "      <th></th>\n",
       "      <th>Unnamed: 0</th>\n",
       "      <th>REGIONID</th>\n",
       "      <th>PRODUCT</th>\n",
       "      <th>YEARWEEK</th>\n",
       "      <th>QTY</th>\n",
       "      <th>NEW_QTY_x</th>\n",
       "      <th>WEEK</th>\n",
       "      <th>YEAR_x</th>\n",
       "      <th>MA</th>\n",
       "      <th>YEAR_y</th>\n",
       "      <th>NEW_QTY_y</th>\n",
       "    </tr>\n",
       "  </thead>\n",
       "  <tbody>\n",
       "    <tr>\n",
       "      <th>0</th>\n",
       "      <td>0</td>\n",
       "      <td>A00</td>\n",
       "      <td>PRODUCT34</td>\n",
       "      <td>201401</td>\n",
       "      <td>661.0</td>\n",
       "      <td>661.0</td>\n",
       "      <td>1</td>\n",
       "      <td>2014</td>\n",
       "      <td>520.000000</td>\n",
       "      <td>2014.0</td>\n",
       "      <td>282.120000</td>\n",
       "    </tr>\n",
       "    <tr>\n",
       "      <th>1</th>\n",
       "      <td>0</td>\n",
       "      <td>A00</td>\n",
       "      <td>PRODUCT34</td>\n",
       "      <td>201401</td>\n",
       "      <td>661.0</td>\n",
       "      <td>661.0</td>\n",
       "      <td>1</td>\n",
       "      <td>2014</td>\n",
       "      <td>520.000000</td>\n",
       "      <td>2015.0</td>\n",
       "      <td>81.882353</td>\n",
       "    </tr>\n",
       "    <tr>\n",
       "      <th>2</th>\n",
       "      <td>0</td>\n",
       "      <td>A00</td>\n",
       "      <td>PRODUCT34</td>\n",
       "      <td>201401</td>\n",
       "      <td>661.0</td>\n",
       "      <td>661.0</td>\n",
       "      <td>1</td>\n",
       "      <td>2014</td>\n",
       "      <td>520.000000</td>\n",
       "      <td>2016.0</td>\n",
       "      <td>44.905660</td>\n",
       "    </tr>\n",
       "    <tr>\n",
       "      <th>3</th>\n",
       "      <td>0</td>\n",
       "      <td>A00</td>\n",
       "      <td>PRODUCT34</td>\n",
       "      <td>201401</td>\n",
       "      <td>661.0</td>\n",
       "      <td>661.0</td>\n",
       "      <td>1</td>\n",
       "      <td>2014</td>\n",
       "      <td>520.000000</td>\n",
       "      <td>2017.0</td>\n",
       "      <td>47.500000</td>\n",
       "    </tr>\n",
       "    <tr>\n",
       "      <th>4</th>\n",
       "      <td>1</td>\n",
       "      <td>A00</td>\n",
       "      <td>PRODUCT34</td>\n",
       "      <td>201402</td>\n",
       "      <td>679.0</td>\n",
       "      <td>679.0</td>\n",
       "      <td>2</td>\n",
       "      <td>2014</td>\n",
       "      <td>514.444444</td>\n",
       "      <td>2014.0</td>\n",
       "      <td>282.120000</td>\n",
       "    </tr>\n",
       "  </tbody>\n",
       "</table>\n",
       "</div>"
      ],
      "text/plain": [
       "   Unnamed: 0 REGIONID    PRODUCT  YEARWEEK    QTY  NEW_QTY_x  WEEK  YEAR_x  \\\n",
       "0           0      A00  PRODUCT34    201401  661.0      661.0     1    2014   \n",
       "1           0      A00  PRODUCT34    201401  661.0      661.0     1    2014   \n",
       "2           0      A00  PRODUCT34    201401  661.0      661.0     1    2014   \n",
       "3           0      A00  PRODUCT34    201401  661.0      661.0     1    2014   \n",
       "4           1      A00  PRODUCT34    201402  679.0      679.0     2    2014   \n",
       "\n",
       "           MA  YEAR_y   NEW_QTY_y  \n",
       "0  520.000000  2014.0  282.120000  \n",
       "1  520.000000  2015.0   81.882353  \n",
       "2  520.000000  2016.0   44.905660  \n",
       "3  520.000000  2017.0   47.500000  \n",
       "4  514.444444  2014.0  282.120000  "
      ]
     },
     "execution_count": 53,
     "metadata": {},
     "output_type": "execute_result"
    }
   ],
   "source": [
    "mergeData2 = pd.merge(result,g2,how = \"left\",on=[\"REGIONID\",\"PRODUCT\"])\n",
    "mergeData2.head()"
   ]
  },
  {
   "cell_type": "code",
   "execution_count": 54,
   "metadata": {},
   "outputs": [
    {
     "data": {
      "text/plain": [
       "123864"
      ]
     },
     "execution_count": 54,
     "metadata": {},
     "output_type": "execute_result"
    }
   ],
   "source": [
    "len(mergeData)"
   ]
  },
  {
   "cell_type": "code",
   "execution_count": 55,
   "metadata": {},
   "outputs": [
    {
     "data": {
      "text/plain": [
       "124332"
      ]
     },
     "execution_count": 55,
     "metadata": {},
     "output_type": "execute_result"
    }
   ],
   "source": [
    "len(mergeData2)"
   ]
  },
  {
   "cell_type": "markdown",
   "metadata": {},
   "source": [
    "### 그룹바이 함수만들기 "
   ]
  },
  {
   "cell_type": "code",
   "execution_count": 56,
   "metadata": {},
   "outputs": [],
   "source": [
    "groupKey = [\"REGIONID\",\"PRODUCT\"]"
   ]
  },
  {
   "cell_type": "code",
   "execution_count": 59,
   "metadata": {},
   "outputs": [],
   "source": [
    "groupDataSet = mergeData.groupby(groupKey)"
   ]
  },
  {
   "cell_type": "code",
   "execution_count": 62,
   "metadata": {},
   "outputs": [
    {
     "data": {
      "text/html": [
       "<div>\n",
       "<style scoped>\n",
       "    .dataframe tbody tr th:only-of-type {\n",
       "        vertical-align: middle;\n",
       "    }\n",
       "\n",
       "    .dataframe tbody tr th {\n",
       "        vertical-align: top;\n",
       "    }\n",
       "\n",
       "    .dataframe thead th {\n",
       "        text-align: right;\n",
       "    }\n",
       "</style>\n",
       "<table border=\"1\" class=\"dataframe\">\n",
       "  <thead>\n",
       "    <tr style=\"text-align: right;\">\n",
       "      <th></th>\n",
       "      <th>Unnamed: 0</th>\n",
       "      <th>REGIONID</th>\n",
       "      <th>PRODUCT</th>\n",
       "      <th>YEARWEEK</th>\n",
       "      <th>QTY</th>\n",
       "      <th>NEW_QTY_x</th>\n",
       "      <th>WEEK</th>\n",
       "      <th>YEAR</th>\n",
       "      <th>MA</th>\n",
       "      <th>NEW_QTY_y</th>\n",
       "    </tr>\n",
       "  </thead>\n",
       "  <tbody>\n",
       "    <tr>\n",
       "      <th>0</th>\n",
       "      <td>0</td>\n",
       "      <td>A00</td>\n",
       "      <td>PRODUCT34</td>\n",
       "      <td>201401</td>\n",
       "      <td>661.0</td>\n",
       "      <td>661.0</td>\n",
       "      <td>1</td>\n",
       "      <td>2014</td>\n",
       "      <td>520.000000</td>\n",
       "      <td>282.12</td>\n",
       "    </tr>\n",
       "    <tr>\n",
       "      <th>1</th>\n",
       "      <td>1</td>\n",
       "      <td>A00</td>\n",
       "      <td>PRODUCT34</td>\n",
       "      <td>201402</td>\n",
       "      <td>679.0</td>\n",
       "      <td>679.0</td>\n",
       "      <td>2</td>\n",
       "      <td>2014</td>\n",
       "      <td>514.444444</td>\n",
       "      <td>282.12</td>\n",
       "    </tr>\n",
       "    <tr>\n",
       "      <th>2</th>\n",
       "      <td>2</td>\n",
       "      <td>A00</td>\n",
       "      <td>PRODUCT34</td>\n",
       "      <td>201403</td>\n",
       "      <td>578.0</td>\n",
       "      <td>578.0</td>\n",
       "      <td>3</td>\n",
       "      <td>2014</td>\n",
       "      <td>516.800000</td>\n",
       "      <td>282.12</td>\n",
       "    </tr>\n",
       "    <tr>\n",
       "      <th>3</th>\n",
       "      <td>3</td>\n",
       "      <td>A00</td>\n",
       "      <td>PRODUCT34</td>\n",
       "      <td>201404</td>\n",
       "      <td>532.0</td>\n",
       "      <td>532.0</td>\n",
       "      <td>4</td>\n",
       "      <td>2014</td>\n",
       "      <td>503.363636</td>\n",
       "      <td>282.12</td>\n",
       "    </tr>\n",
       "    <tr>\n",
       "      <th>4</th>\n",
       "      <td>4</td>\n",
       "      <td>A00</td>\n",
       "      <td>PRODUCT34</td>\n",
       "      <td>201405</td>\n",
       "      <td>516.0</td>\n",
       "      <td>516.0</td>\n",
       "      <td>5</td>\n",
       "      <td>2014</td>\n",
       "      <td>490.750000</td>\n",
       "      <td>282.12</td>\n",
       "    </tr>\n",
       "  </tbody>\n",
       "</table>\n",
       "</div>"
      ],
      "text/plain": [
       "   Unnamed: 0 REGIONID    PRODUCT  YEARWEEK    QTY  NEW_QTY_x  WEEK  YEAR  \\\n",
       "0           0      A00  PRODUCT34    201401  661.0      661.0     1  2014   \n",
       "1           1      A00  PRODUCT34    201402  679.0      679.0     2  2014   \n",
       "2           2      A00  PRODUCT34    201403  578.0      578.0     3  2014   \n",
       "3           3      A00  PRODUCT34    201404  532.0      532.0     4  2014   \n",
       "4           4      A00  PRODUCT34    201405  516.0      516.0     5  2014   \n",
       "\n",
       "           MA  NEW_QTY_y  \n",
       "0  520.000000     282.12  \n",
       "1  514.444444     282.12  \n",
       "2  516.800000     282.12  \n",
       "3  503.363636     282.12  \n",
       "4  490.750000     282.12  "
      ]
     },
     "execution_count": 62,
     "metadata": {},
     "output_type": "execute_result"
    }
   ],
   "source": [
    "oneGroup = groupDataSet.get_group(list(groupDataSet.groups)[0])\n",
    "oneGroup.head()"
   ]
  },
  {
   "cell_type": "code",
   "execution_count": 63,
   "metadata": {},
   "outputs": [],
   "source": [
    "def groupRolling(oneGroup):\n",
    "    # len(list(groupDataSet.groups))\n",
    "    # oneGroup = groupDataSet.get_group(list(groupDataSet.groups)[2])\n",
    "    \n",
    "    indexGroupData = oneGroup.reset_index(drop = True)\n",
    "    indexGroupData[\"MA2\"] = indexGroupData[\"NEW_QTY_x\"].rolling(window=5, center = True).mean()\n",
    "    \n",
    "    return indexGroupData"
   ]
  },
  {
   "cell_type": "code",
   "execution_count": 64,
   "metadata": {},
   "outputs": [],
   "source": [
    "finalResult = mergeData.groupby(groupKey).apply(groupRolling)"
   ]
  },
  {
   "cell_type": "code",
   "execution_count": 95,
   "metadata": {},
   "outputs": [
    {
     "data": {
      "text/html": [
       "<div>\n",
       "<style scoped>\n",
       "    .dataframe tbody tr th:only-of-type {\n",
       "        vertical-align: middle;\n",
       "    }\n",
       "\n",
       "    .dataframe tbody tr th {\n",
       "        vertical-align: top;\n",
       "    }\n",
       "\n",
       "    .dataframe thead th {\n",
       "        text-align: right;\n",
       "    }\n",
       "</style>\n",
       "<table border=\"1\" class=\"dataframe\">\n",
       "  <thead>\n",
       "    <tr style=\"text-align: right;\">\n",
       "      <th></th>\n",
       "      <th></th>\n",
       "      <th></th>\n",
       "      <th>Unnamed: 0</th>\n",
       "      <th>REGIONID</th>\n",
       "      <th>PRODUCT</th>\n",
       "      <th>YEARWEEK</th>\n",
       "      <th>QTY</th>\n",
       "      <th>NEW_QTY_x</th>\n",
       "      <th>WEEK</th>\n",
       "      <th>YEAR</th>\n",
       "      <th>MA</th>\n",
       "      <th>NEW_QTY_y</th>\n",
       "      <th>MA2</th>\n",
       "    </tr>\n",
       "    <tr>\n",
       "      <th>REGIONID</th>\n",
       "      <th>PRODUCT</th>\n",
       "      <th></th>\n",
       "      <th></th>\n",
       "      <th></th>\n",
       "      <th></th>\n",
       "      <th></th>\n",
       "      <th></th>\n",
       "      <th></th>\n",
       "      <th></th>\n",
       "      <th></th>\n",
       "      <th></th>\n",
       "      <th></th>\n",
       "      <th></th>\n",
       "    </tr>\n",
       "  </thead>\n",
       "  <tbody>\n",
       "    <tr>\n",
       "      <th rowspan=\"5\" valign=\"top\">A00</th>\n",
       "      <th rowspan=\"5\" valign=\"top\">PRODUCT34</th>\n",
       "      <th>0</th>\n",
       "      <td>0</td>\n",
       "      <td>A00</td>\n",
       "      <td>PRODUCT34</td>\n",
       "      <td>201401</td>\n",
       "      <td>661.0</td>\n",
       "      <td>661.0</td>\n",
       "      <td>1</td>\n",
       "      <td>2014</td>\n",
       "      <td>520.000000</td>\n",
       "      <td>282.12</td>\n",
       "      <td>NaN</td>\n",
       "    </tr>\n",
       "    <tr>\n",
       "      <th>1</th>\n",
       "      <td>1</td>\n",
       "      <td>A00</td>\n",
       "      <td>PRODUCT34</td>\n",
       "      <td>201402</td>\n",
       "      <td>679.0</td>\n",
       "      <td>679.0</td>\n",
       "      <td>2</td>\n",
       "      <td>2014</td>\n",
       "      <td>514.444444</td>\n",
       "      <td>282.12</td>\n",
       "      <td>NaN</td>\n",
       "    </tr>\n",
       "    <tr>\n",
       "      <th>2</th>\n",
       "      <td>2</td>\n",
       "      <td>A00</td>\n",
       "      <td>PRODUCT34</td>\n",
       "      <td>201403</td>\n",
       "      <td>578.0</td>\n",
       "      <td>578.0</td>\n",
       "      <td>3</td>\n",
       "      <td>2014</td>\n",
       "      <td>516.800000</td>\n",
       "      <td>282.12</td>\n",
       "      <td>593.2</td>\n",
       "    </tr>\n",
       "    <tr>\n",
       "      <th>3</th>\n",
       "      <td>3</td>\n",
       "      <td>A00</td>\n",
       "      <td>PRODUCT34</td>\n",
       "      <td>201404</td>\n",
       "      <td>532.0</td>\n",
       "      <td>532.0</td>\n",
       "      <td>4</td>\n",
       "      <td>2014</td>\n",
       "      <td>503.363636</td>\n",
       "      <td>282.12</td>\n",
       "      <td>545.6</td>\n",
       "    </tr>\n",
       "    <tr>\n",
       "      <th>4</th>\n",
       "      <td>4</td>\n",
       "      <td>A00</td>\n",
       "      <td>PRODUCT34</td>\n",
       "      <td>201405</td>\n",
       "      <td>516.0</td>\n",
       "      <td>516.0</td>\n",
       "      <td>5</td>\n",
       "      <td>2014</td>\n",
       "      <td>490.750000</td>\n",
       "      <td>282.12</td>\n",
       "      <td>491.2</td>\n",
       "    </tr>\n",
       "  </tbody>\n",
       "</table>\n",
       "</div>"
      ],
      "text/plain": [
       "                      Unnamed: 0 REGIONID    PRODUCT  YEARWEEK    QTY  \\\n",
       "REGIONID PRODUCT                                                        \n",
       "A00      PRODUCT34 0           0      A00  PRODUCT34    201401  661.0   \n",
       "                   1           1      A00  PRODUCT34    201402  679.0   \n",
       "                   2           2      A00  PRODUCT34    201403  578.0   \n",
       "                   3           3      A00  PRODUCT34    201404  532.0   \n",
       "                   4           4      A00  PRODUCT34    201405  516.0   \n",
       "\n",
       "                      NEW_QTY_x  WEEK  YEAR          MA  NEW_QTY_y    MA2  \n",
       "REGIONID PRODUCT                                                           \n",
       "A00      PRODUCT34 0      661.0     1  2014  520.000000     282.12    NaN  \n",
       "                   1      679.0     2  2014  514.444444     282.12    NaN  \n",
       "                   2      578.0     3  2014  516.800000     282.12  593.2  \n",
       "                   3      532.0     4  2014  503.363636     282.12  545.6  \n",
       "                   4      516.0     5  2014  490.750000     282.12  491.2  "
      ]
     },
     "execution_count": 95,
     "metadata": {},
     "output_type": "execute_result"
    }
   ],
   "source": [
    "finalResult.head()"
   ]
  },
  {
   "cell_type": "markdown",
   "metadata": {},
   "source": [
    "### 4주차로만 계산해서 컬럼을 생성해라 "
   ]
  },
  {
   "cell_type": "code",
   "execution_count": null,
   "metadata": {},
   "outputs": [],
   "source": []
  },
  {
   "cell_type": "markdown",
   "metadata": {},
   "source": [
    "### concat "
   ]
  },
  {
   "cell_type": "code",
   "execution_count": 96,
   "metadata": {},
   "outputs": [],
   "source": [
    "fullData = pd.read_csv('../dataset/kopo_channel_seasonality_new.csv')"
   ]
  },
  {
   "cell_type": "code",
   "execution_count": 97,
   "metadata": {},
   "outputs": [],
   "source": [
    "a01Data =fullData[fullData.REGIONID == \"A01\"]"
   ]
  },
  {
   "cell_type": "code",
   "execution_count": 99,
   "metadata": {},
   "outputs": [
    {
     "data": {
      "text/plain": [
       "3611"
      ]
     },
     "execution_count": 99,
     "metadata": {},
     "output_type": "execute_result"
    }
   ],
   "source": [
    "len(a01Data)"
   ]
  },
  {
   "cell_type": "code",
   "execution_count": 101,
   "metadata": {},
   "outputs": [],
   "source": [
    "a20Data = fullData[fullData.REGIONID == \"A20\"]"
   ]
  },
  {
   "cell_type": "code",
   "execution_count": 102,
   "metadata": {},
   "outputs": [
    {
     "data": {
      "text/plain": [
       "471"
      ]
     },
     "execution_count": 102,
     "metadata": {},
     "output_type": "execute_result"
    }
   ],
   "source": [
    "len(a20Data)"
   ]
  },
  {
   "cell_type": "code",
   "execution_count": 103,
   "metadata": {},
   "outputs": [],
   "source": [
    "resultConcat = pd.concat([a01Data,a20Data], axis=0)"
   ]
  },
  {
   "cell_type": "code",
   "execution_count": 104,
   "metadata": {},
   "outputs": [
    {
     "data": {
      "text/plain": [
       "4082"
      ]
     },
     "execution_count": 104,
     "metadata": {},
     "output_type": "execute_result"
    }
   ],
   "source": [
    "len(resultConcat)"
   ]
  },
  {
   "cell_type": "code",
   "execution_count": null,
   "metadata": {},
   "outputs": [],
   "source": []
  },
  {
   "cell_type": "code",
   "execution_count": null,
   "metadata": {},
   "outputs": [],
   "source": []
  },
  {
   "cell_type": "code",
   "execution_count": null,
   "metadata": {},
   "outputs": [],
   "source": []
  },
  {
   "cell_type": "code",
   "execution_count": null,
   "metadata": {},
   "outputs": [],
   "source": []
  },
  {
   "cell_type": "code",
   "execution_count": null,
   "metadata": {},
   "outputs": [],
   "source": []
  },
  {
   "cell_type": "code",
   "execution_count": null,
   "metadata": {},
   "outputs": [],
   "source": []
  },
  {
   "cell_type": "code",
   "execution_count": null,
   "metadata": {},
   "outputs": [],
   "source": []
  },
  {
   "cell_type": "code",
   "execution_count": null,
   "metadata": {},
   "outputs": [],
   "source": []
  }
 ],
 "metadata": {
  "kernelspec": {
   "display_name": "Python 3",
   "language": "python",
   "name": "python3"
  }
 },
 "nbformat": 4,
 "nbformat_minor": 2
}
